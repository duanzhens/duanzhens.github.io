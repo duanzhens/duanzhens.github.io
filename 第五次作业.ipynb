{
 "cells": [
  {
   "cell_type": "markdown",
   "metadata": {},
   "source": [
    "## 第五次作业"
   ]
  },
  {
   "cell_type": "markdown",
   "metadata": {},
   "source": [
    "# 1、将百度热点http://top.baidu.com/buzz?b=341&c=513&fr=topbuzz_b1的抓取过程封装成函数\n",
    "# 2、提取B站评论的响应内容，将“发送成功”提取出来\n",
    "# 3、提取出https://www.baidu.com/s?wd=ip页面中的IP信息"
   ]
  },
  {
   "cell_type": "markdown",
   "metadata": {},
   "source": [
    "- ip信息"
   ]
  },
  {
   "cell_type": "markdown",
   "metadata": {},
   "source": [
    "import requests\n",
    "import re\n",
    "\n",
    "headers = {\n",
    "    \"User-Agent\": \"Mozilla/5.0 (Windows NT 10.0; Win64; x64) AppleWebKit/537.36 (KHTML, like Gecko) Chrome/80.0.3987.87 Safari/537.36\"\n",
    "}\n",
    "url = \"https://www.baidu.com/s?ie=utf-8&f=8&rsv_bp=1&rsv_idx=1&tn=78000241_33_hao_pg&wd=IP&fenlei=256&rsv_pq=af4126bf0000d598&rsv_t=c70b2oXahb16B%2Bygl%2F9Jy37vBcmxfMoaxF8%2Biqs4JiMH%2BjZe0q64XdgBDlYqOp1iXRXrVsIjdo5g&rqlang=cn&rsv_enter=1&rsv_dl=tb&rsv_sug3=2&rsv_sug1=1&rsv_sug7=100&rsv_sug2=0&rsv_btype=i&inputT=2445&rsv_sug4=2445\"\n",
    "response = requests.get(url=url,headers=headers)\n",
    "html = response.content.decode(\"utf-8\")\n",
    "\n",
    "pattern = '<td>\\s+<span.*?>(.*?)</span>'\n",
    "result = re.findall(pattern,html)\n",
    "print(result)"
   ]
  },
  {
   "cell_type": "markdown",
   "metadata": {},
   "source": [
    "- 百度热点"
   ]
  },
  {
   "cell_type": "markdown",
   "metadata": {},
   "source": [
    "import requests\n",
    "import re\n",
    "\n",
    "def self():\n",
    "    headers = {\n",
    "    \"User-Agent\":\" Mozilla/5.0 (Windows NT 10.0; Win64; x64) AppleWebKit/537.36 (KHTML, like Gecko) Chrome/80.0.3987.87 Safari/537.36\"\n",
    "    }\n",
    "    url = \"http://top.baidu.com/buzz?b=341&c=513&fr=topbuzz_b1%E7%9A%84%E6%8A%93%E5%8F%96%E8%BF%87%E7%A8%8B%E5%B0%81%E8%A3%85%E6%88%90%E5%87%BD%E6%95%B0\"\n",
    "    response = requests.get(url)\n",
    "    html = response.content.decode(\"gb2312\")\n",
    "def crawl():\n",
    "    pattern = '<td\\sclass=\"keyword\">\\s+<a.*?>(.*?)</a>'\n",
    "    result = re.findall(pattern,html)\n",
    "\n",
    "def Bale():\n",
    "    for i in enumerate(result,start = 1):\n",
    "        print(i)\n",
    "    \n",
    "if __name__ == \"__main__\":\n",
    "    Bale()"
   ]
  },
  {
   "cell_type": "markdown",
   "metadata": {},
   "source": [
    "- b站评论"
   ]
  },
  {
   "cell_type": "markdown",
   "metadata": {},
   "source": [
    "import requests\n",
    "\n",
    "def send_comment():\n",
    "    url = \"https://api.bilibili.com/x/v2/reply/add\"\n",
    "    headers = {\n",
    "        \"Accept\": \"application/json, text/javascript, */*; q=0.01\",\n",
    "        \"Accept-Encoding\": \"gzip, deflate, br\",\n",
    "        \"Accept-Language\": \"zh-CN,zh;q=0.9\",\n",
    "        \"Connection\": \"keep-alive\",\n",
    "        \"Content-Type\": \"application/x-www-form-urlencoded; charset=UTF-8\",\n",
    "        \"Cookie\": \"_uuid=2C9F0C76-EDA3-4616-B522-3D940346CF5263552infoc; buvid3=D8BCFFA0-E8CC-4992-A99E-DAD4E5A2159853920infoc; sid=ai89ke8d; DedeUserID=476892351; DedeUserID__ckMd5=49257620403837c7; SESSDATA=44539ff0%2C1602589991%2C02143*41; bili_jct=860d8ec76d886baae8196a2fda74f804; LIVE_BUVID=AUTO3515870380028320; bp_t_offset_476892351=377263149829548238; CURRENT_FNVAL=16; bsource=seo_google; PVID=4; rpdid=|(J|)R)RJkRl0J'ul)~u|~k|)\",\n",
    "        \"Host\": \"api.bilibili.com\",\n",
    "        \"Origin\": \"https://www.bilibili.com\",\n",
    "        \"Referer\": \"https://www.bilibili.com/video/av89901570?from=search&seid=7620866718617405880\",\n",
    "        \"User-Agent\": \"Mozilla/5.0 (Windows NT 10.0; Win64; x64) AppleWebKit/537.36 (KHTML, like Gecko) Chrome/80.0.3987.132 Safari/537.36\"\n",
    "    }\n",
    "    form_data = {\n",
    "        \"oid\":96692394,\n",
    "        \"type\":1,\n",
    "        \"message\":\"你真棒\",\n",
    "        \"plat\":1,\n",
    "        \"jsonp\":\"jsonp\",\n",
    "        \"csrf\":\"830bb4f6d408eb00ac97c4f0d2dbf58d\"\n",
    "        \n",
    "    }\n",
    "    response = requests.post(url=url,headers=headers,data=form_data)\n",
    "    return response.json()\n",
    "\n",
    "def parser(data):\n",
    "    data = data[\"data\"]\n",
    "    print(data)\n",
    "    result = data[\"success_toast\"]\n",
    "    print(result)\n",
    "    \n",
    "def run():\n",
    "    data = send_comment()\n",
    "    parser(data)\n",
    "    \n",
    "\n",
    "if __name__ == \"__main__\":\n",
    "    run()"
   ]
  }
 ],
 "metadata": {
  "kernelspec": {
   "display_name": "Python 3",
   "language": "python",
   "name": "python3"
  },
  "language_info": {
   "codemirror_mode": {
    "name": "ipython",
    "version": 3
   },
   "file_extension": ".py",
   "mimetype": "text/x-python",
   "name": "python",
   "nbconvert_exporter": "python",
   "pygments_lexer": "ipython3",
   "version": "3.8.3rc1"
  }
 },
 "nbformat": 4,
 "nbformat_minor": 4
}
