{
 "cells": [
  {
   "cell_type": "markdown",
   "metadata": {},
   "source": [
    "## 作业就是读取到响应内容 然后提取出“发送成功”和发送的信息 提示：使用json模块能将字符串转换成字典"
   ]
  },
  {
   "cell_type": "markdown",
   "metadata": {},
   "source": [
    "import urllib.request\n",
    "import urllib.parse\n",
    "import http.cookiejar\n",
    "import gzip\n",
    "import json\n",
    "\n",
    "\n",
    "def crawler():\n",
    "\turl = \"https://api.bilibili.com/x/v2/reply/add\"\n",
    "\theaders = {\n",
    "\t\t\"Accept\": \"application/json, text/javascript, */*; q=0.01\",\n",
    "\t\t\"Accept-Encoding\": \"gzip, deflate, br\",\n",
    "\t\t\"Accept-Language\": \"zh-CN,zh;q=0.9\",\n",
    "\t\t\"Connection\": \"keep-alive\",\n",
    "\t\t\"Content-Type\": \"application/x-www-form-urlencoded; charset=UTF-8\",\n",
    "\t\t\"Cookie\": \"_uuid=2C9F0C76-EDA3-4616-B522-3D940346CF5263552infoc; buvid3=D8BCFFA0-E8CC-4992-A99E-DAD4E5A2159853920infoc; sid=ai89ke8d; DedeUserID=476892351; DedeUserID__ckMd5=49257620403837c7; SESSDATA=44539ff0%2C1602589991%2C02143*41; bili_jct=860d8ec76d886baae8196a2fda74f804; LIVE_BUVID=AUTO3515870380028320; bp_t_offset_476892351=377263149829548238; CURRENT_FNVAL=16; bsource=seo_google; PVID=4; rpdid=|(J|)R)RJkRl0J'ul)~u|~k|)\",\n",
    "\t\t\"Host\": \"api.bilibili.com\",\n",
    "\t\t\"Origin\": \"https://www.bilibili.com\",\n",
    "\t\t\"Referer\": \"https://www.bilibili.com/video/av89901570?from=search&seid=7620866718617405880\",\n",
    "\t\t\"User-Agent\": \"Mozilla/5.0 (Windows NT 10.0; Win64; x64) AppleWebKit/537.36 (KHTML, like Gecko) Chrome/80.0.3987.132 Safari/537.36\"\n",
    "\t}\n",
    "\n",
    "\tform_data = {\n",
    "\t\t\"oid\":89904703,\n",
    "\t\t\"type\": 1,\n",
    "\t\t\"message\": \"你很棒\",\n",
    "\t\t\"plat\": 1,\n",
    "\t\t\"jsonp\": \"jsonp\",\n",
    "\t\t\"csrf\": \"860d8ec76d886baae8196a2fda74f804\"\n",
    "\t}\n",
    "\n",
    "\tdata = bytes(urllib.parse.urlencode(form_data), encoding=\"utf-8\")\n",
    "\tr = urllib.request.Request(url=url, data=data, headers=headers)\n",
    "\tcookie = http.cookiejar.CookieJar()\n",
    "\thandler = urllib.request.HTTPCookieProcessor(cookie)\n",
    "\topener = urllib.request.build_opener(handler)\n",
    "\turllib.request.install_opener(opener)\n",
    "\tresponse = opener.open(r)\n",
    "\tresponse = urllib.request.urlopen(r)\n",
    "\tresp = gzip.GzipFile(fileobj=response)\n",
    "\tprint(json.loads(resp.read().decode(\"utf-8\")))\n",
    "\n",
    "if __name__ == \"__main__\":\n",
    "    crawler()"
   ]
  }
 ],
 "metadata": {
  "kernelspec": {
   "display_name": "Python 3",
   "language": "python",
   "name": "python3"
  },
  "language_info": {
   "codemirror_mode": {
    "name": "ipython",
    "version": 3
   },
   "file_extension": ".py",
   "mimetype": "text/x-python",
   "name": "python",
   "nbconvert_exporter": "python",
   "pygments_lexer": "ipython3",
   "version": "3.8.3rc1"
  }
 },
 "nbformat": 4,
 "nbformat_minor": 4
}
