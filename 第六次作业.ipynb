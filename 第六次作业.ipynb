{
 "cells": [
  {
   "cell_type": "markdown",
   "metadata": {},
   "source": [
    "## 作业：将必应壁纸第一页的壁纸全部下载下来，然后将代码以及代码的解释用markdown写出来上传到博客上"
   ]
  },
  {
   "cell_type": "markdown",
   "metadata": {},
   "source": [
    "import requests #提取requests函数\n",
    "from lxml import etree #提取lxml里的函数etree\n",
    "\n",
    "class BingCrawler():\n",
    "    def __init__(self):  #定义一个新变量，init函数\n",
    "        self.BASE_URL = \"https://bing.ioliu.cn\"#必应图片网址\n",
    "        self.TOTAL_PAGE = 124 #页数\n",
    "        self.headers = {\n",
    "            \"user-agent\": \"Mozilla/5.0 (Windows NT 10.0; Win64; x64) AppleWebKit/537.36 (KHTML, like Gecko) Chrome/80.0.3987.149 Safari/537.36\"\n",
    "        }  #响应头\n",
    "\n",
    "    def spider(self):#爬取函数\n",
    "        session = requests.Session() #请求session\n",
    "        for index in range(1 ,self.TOTAL_PAGE+1):#实现翻页\n",
    "            url = self.BASE_URL + f\"/?p={index}\" #第几页的网址\n",
    "            response = session.get(url=url, headers=self.headers) #响应session，并且得到数据\n",
    "            yield response.content.decode(\"utf8\") #使数据编码为utf-8\n",
    "\n",
    "    @staticmethod\n",
    "    def parser(html): #把程序文本转化成编译器内部的一种结构数据\n",
    "        selector = etree.HTML(html) #构造一个XPath解析对象并对HTML文本进行自动修正\n",
    "        url_list = selector.xpath(\"//div[@class='item']//div[@class='options']/a[2]/@href\")  #在网址中找到要提取的内容\n",
    "        return url_list #返回到url_list\n",
    "\n",
    "    def save_picture(self, url_list): #定义函数，保存图片\n",
    "        session = requests.Session() #请求session\n",
    "        for url in url_list: #for循环，遍历\n",
    "            file_name = url.split(\"/\")[2][:-15] + \".jpg\" #文件的名字，提取图片\n",
    "            picture_url =  self.BASE_URL + url #图片地址\n",
    "            response = session.get(picture_url, headers=self.headers) #响应session，得到数据\n",
    "            with open(file_name, \"wb\") as file:#打开文件\n",
    "                file.write(response.content) \n",
    "\n",
    "    def run(self):#解析函数\n",
    "        html_gen = self.spider() \n",
    "        for html in html_gen:\n",
    "            url_list = self.parser(html)\n",
    "            self.save_picture(url_list)\n",
    "\n",
    "if __name__ == '__main__':\n",
    "    bing_spider = BingCrawler()\n",
    "    bing_spider.run()"
   ]
  }
 ],
 "metadata": {
  "kernelspec": {
   "display_name": "Python 3",
   "language": "python",
   "name": "python3"
  },
  "language_info": {
   "codemirror_mode": {
    "name": "ipython",
    "version": 3
   },
   "file_extension": ".py",
   "mimetype": "text/x-python",
   "name": "python",
   "nbconvert_exporter": "python",
   "pygments_lexer": "ipython3",
   "version": "3.8.3rc1"
  }
 },
 "nbformat": 4,
 "nbformat_minor": 4
}
